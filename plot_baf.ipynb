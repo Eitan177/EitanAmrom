{
  "nbformat": 4,
  "nbformat_minor": 0,
  "metadata": {
    "colab": {
      "provenance": []
    },
    "kernelspec": {
      "name": "python3",
      "display_name": "Python 3"
    },
    "language_info": {
      "name": "python"
    }
  },
  "cells": [
    {
      "cell_type": "code",
      "source": [
        "!pip install -q streamlit\n",
        "!pip install psutil"
      ],
      "metadata": {
        "id": "7mgQpMk7nRYk"
      },
      "execution_count": null,
      "outputs": []
    },
    {
      "cell_type": "code",
      "source": [
        "%%writefile app.py\n",
        "import streamlit as st\n",
        "import pandas as pd\n",
        "import numpy as np\n",
        "import re\n",
        "st.set_page_config(layout='wide')\n",
        "st.title('Plot allele frequency column from vcf file')\n",
        "mvfe=st.file_uploader('Upload master variant file extreme here',type=['txt','maf','table'])\n",
        "onlysnps=st.checkbox('only SNPs')\n",
        "usegenomicCoordinate=st.checkbox('Use genomic coordinates instead of indices')\n",
        "colorselection=st.radio('color points using:', ['Gene','DBSNP'])\n",
        "\n",
        "if mvfe != None:\n",
        "    st.write(mvfe.name)\n",
        "    if mvfe.type == \"text/plain\":\n",
        "        st.write('reading text file')\n",
        "        chart_data = pd.read_table(mvfe,sep='\\t')\n",
        "    elif re.findall('table',mvfe.name):\n",
        "        st.write('reading table file')\n",
        "        chart_data = pd.read_table(mvfe,sep='\\t',skiprows=1)\n",
        "        chart_data['AF']=chart_data['allele_frequency']\n",
        "        chart_data['POS']=chart_data['position']\n",
        "        chart_data['GENE']=chart_data['alt_count']\n",
        "        chart_data['CHROM']=chart_data['contig']\n",
        "    else:\n",
        "        st.write('reading maf file')\n",
        "        chart_data = pd.read_csv(mvfe,sep='\\t',skiprows=1)\n",
        "        try:\n",
        "            chart_data['AF']=chart_data['DP4'].str.split(',',expand=True).astype(int).apply(lambda x: x[2:4].sum()/x.sum(),axis=1)\n",
        "        except:\n",
        "            chart_data['AF']=chart_data[['t_alt_count','t_depth']].apply(lambda x: x[0]/x[1],axis=1)\n",
        "        chart_data['POS']=chart_data['Start_Position']\n",
        "        chart_data['GENE']=chart_data['Hugo_Symbol']\n",
        "        chart_data['CHROM']=chart_data['Chromosome']\n",
        "    if onlysnps:\n",
        "        try:\n",
        "            chart_data=chart_data.iloc[np.where(chart_data['rsID'].str.contains('rs'))[0]]\n",
        "        except:\n",
        "             chart_data=chart_data.iloc[np.where(chart_data['dbSNP_RS'].str.contains('rs'))[0]]\n",
        "    chart_data['ind']=  chart_data['POS']\n",
        "    if colorselection=='Gene':\n",
        "        chart_data['gene_v_snp']=[str(y) for y in chart_data['GENE']]\n",
        "    else:\n",
        "        chart_data['gene_v_snp']=[str(y) for y in chart_data['dbSNP_RS']]\n",
        "\n",
        "    # Display a scatterplot chart\n",
        "    cola,colb,colc= st.columns(3)\n",
        "    m=0\n",
        "    for a in np.unique(chart_data['CHROM']):\n",
        "        chrom = chart_data[chart_data['CHROM']==a]\n",
        "        if not usegenomicCoordinate:\n",
        "            chrom['ind']=np.arange(0,chrom.shape[0])\n",
        "        chrom.reset_index(inplace=True)\n",
        "        if m % 3 == 0:\n",
        "            with cola:\n",
        "                st.title(a+ ' x-axis index')\n",
        "                st.scatter_chart(chrom,x='ind', y='AF',size=30,color='gene_v_snp')\n",
        "        elif m % 3 == 1:\n",
        "            with colb:\n",
        "                st.title(a+ ' x-axis index')\n",
        "                st.scatter_chart(chrom,x='ind', y='AF',size=30,color='gene_v_snp')\n",
        "\n",
        "        elif m % 3 == 2:\n",
        "\n",
        "            with colc:\n",
        "                st.title(a+ ' x-axis index')\n",
        "                st.scatter_chart(chrom,x='ind', y='AF',size=30,color='gene_v_snp')\n",
        "        m+=1\n",
        "    st.write(chart_data)"
      ],
      "metadata": {
        "id": "aKX3nAobnS9J"
      },
      "execution_count": null,
      "outputs": []
    },
    {
      "cell_type": "code",
      "source": [
        "!wget -q -O - https://loca.lt/mytunnelpassword"
      ],
      "metadata": {
        "id": "qjApuFRonTFm"
      },
      "execution_count": null,
      "outputs": []
    },
    {
      "cell_type": "code",
      "execution_count": null,
      "metadata": {
        "id": "yxl7XpzgnPPQ"
      },
      "outputs": [],
      "source": [
        "!streamlit run app.py &>/content/logs.txt &\n",
        "!npx localtunnel --port 8501"
      ]
    }
  ]
}