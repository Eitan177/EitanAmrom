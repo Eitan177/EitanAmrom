{
  "nbformat": 4,
  "nbformat_minor": 0,
  "metadata": {
    "colab": {
      "provenance": []
    },
    "kernelspec": {
      "name": "python3",
      "display_name": "Python 3"
    },
    "language_info": {
      "name": "python"
    }
  },
  "cells": [
    {
      "cell_type": "markdown",
      "source": [
        "# Convert MAF file to a Bedgraph file\n",
        "[![Open In Colab](https://colab.research.google.com/assets/colab-badge.svg)](https://colab.research.google.com/github/Eitan177/EitanAmrom/blob/main/makebaf_bedgraphfile.ipynb)"
      ],
      "metadata": {
        "id": "5tCltdONdP_R"
      }
    },
    {
      "cell_type": "markdown",
      "source": [
        "This code processes MAF (Mutation Annotation Format) files to generate a bedgraph file representing the B-allele frequency (BAF)\n",
        "\n",
        "**1. Libraries and initial setup:**\n",
        "\n",
        "* `import pandas as pd`: Imports the pandas library for data manipulation.\n",
        "* `import os`: Imports the os module for interacting with the operating system, specifically for file operations.\n",
        "* `import shutil`: Imports the shutil module, used for file operations like moving files.\n",
        "\n",
        "**2. Function Definition (`create_bedgraph`)**\n",
        "\n",
        "* Encapsulates the entire process into a reusable function.\n",
        "* Takes the input MAF file path and the output bedgraph file path as arguments.\n",
        "\n",
        "\n",
        "**2A. Reading the MAF file:**\n",
        "\n",
        "* The code first attempts to read a MAF file using pandas.\n",
        "* `sep='\\t'`: Specifies that the file is tab-separated.\n",
        "* `skiprows=1`: Skips the first row (presumably a header).\n",
        "* `header=0`: Treats the second row as the header row.\n",
        "* **Error Handling:** The `try...except` block handles potential errors:\n",
        "    * `FileNotFoundError`: If the specified file does not exist.\n",
        "    * `pd.errors.ParserError`: If there's an issue parsing the file (e.g., incorrect format).\n",
        "    * `Exception`: Catches any other unexpected errors.\n",
        "\n",
        "\n",
        "**2B. Data Processing:**\n",
        "\n",
        "* The code creates a new column named `AF` (Allele Frequency) in the DataFrame by calculating the BAF. It calculates this from the `DP4` column.\n",
        "* The `DP4` column likely contains comma-separated values representing read counts.\n",
        "* The code splits these values, converts them to integers, and then calculates the sum of the 3rd and 4th values divided by the sum of all values.\n",
        "* It also creates or renames other columns to store relevant information (Chromosome, Position, Gene).\n",
        "\n",
        "**2C. Creating the Bedgraph File:**\n",
        "\n",
        "* The code opens a file named \"output.bedgraph\" in write mode.\n",
        "* Writes a header line defining the track type, name, description, and visualization parameters for the bedgraph file.\n",
        "* Iterates through each row of the DataFrame and writes a line to the bedgraph file. The bedgraph format follows: chromosome, start position, end position, value.\n",
        "  * The end position is calculated as `row['POS'] + 200`.\n"
      ],
      "metadata": {
        "id": "kbEsk7JQE2w0"
      }
    },
    {
      "cell_type": "code",
      "execution_count": null,
      "metadata": {
        "id": "bZLT--_kEPQA"
      },
      "outputs": [],
      "source": [
        "import pandas as pd\n",
        "import os\n",
        "\n",
        "def create_bedgraph(input_maf_file, output_bedgraph_file):\n",
        "    \"\"\"\n",
        "    Creates a bedgraph file from a MAF file.\n",
        "\n",
        "    Args:\n",
        "        input_maf_file: Path to the input MAF file.\n",
        "        output_bedgraph_file: Path to the output bedgraph file.\n",
        "    \"\"\"\n",
        "    try:\n",
        "        df = pd.read_csv(input_maf_file, sep='\\t', skiprows=1, header=0)\n",
        "\n",
        "        # Error Handling for missing columns\n",
        "        required_cols = ['DP4', 'Start_Position', 'Hugo_Symbol', 'Chromosome']\n",
        "        missing_cols = set(required_cols) - set(df.columns)\n",
        "        if missing_cols:\n",
        "            raise ValueError(f\"Missing required columns in the MAF file: {', '.join(missing_cols)}\")\n",
        "\n",
        "        chart_data = df\n",
        "        chart_data['AF'] = chart_data['DP4'].str.split(',', expand=True).astype(int).apply(lambda x: x[2:4].sum() / x.sum(), axis=1)\n",
        "        chart_data['POS'] = chart_data['Start_Position']\n",
        "        chart_data['GENE'] = chart_data['Hugo_Symbol']\n",
        "        chart_data['CHROM'] = chart_data['Chromosome']\n",
        "\n",
        "        with open(output_bedgraph_file, \"w\") as f:\n",
        "            f.write('track type=bedGraph name=\"BAF\" description=\"B allele frequency\" visibility=full color=0,0,255\\n')\n",
        "            for index, row in chart_data.iterrows():\n",
        "                f.write(f\"{row['CHROM']}\\t{row['POS']}\\t{row['POS'] + 200}\\t{row['AF']}\\n\")\n",
        "        print(f\"bedgraph file '{output_bedgraph_file}' created successfully!\")\n",
        "\n",
        "    except FileNotFoundError:\n",
        "        print(f\"Error: File not found. Please check the file path: {input_maf_file}\")\n",
        "    except pd.errors.ParserError:\n",
        "        print(f\"Error: Could not parse the file. Please check the file format: {input_maf_file}\")\n",
        "    except ValueError as ve:\n",
        "        print(f\"Error: {ve}\")\n",
        "    except Exception as e:\n",
        "        print(f\"An unexpected error occurred: {e}\")\n"
      ]
    },
    {
      "cell_type": "markdown",
      "source": [
        "**Iterating over .maf Files**\n",
        "\n",
        "* loop finds all files ending with `.snpbackbone.maf` in the /content directory\n",
        "* For each .maf file found, it calls the `create_bedgraph` function, generating a bedgraph file for every maf file."
      ],
      "metadata": {
        "id": "_x6Ovb2qF_mi"
      }
    },
    {
      "cell_type": "code",
      "source": [
        "for filename in os.listdir('/content/'):\n",
        "    if filename.endswith('.snpbackbone.maf'):\n",
        "        input_maf_file = os.path.join('/content/', filename)\n",
        "        output_bedgraph_file = filename.replace('.snpbackbone.maf', '.bedgraph')  # Create output filename\n",
        "        create_bedgraph(input_maf_file, output_bedgraph_file)"
      ],
      "metadata": {
        "id": "SFoSljWaF9AH"
      },
      "execution_count": null,
      "outputs": []
    },
    {
      "cell_type": "markdown",
      "source": [
        "**File Organization**\n",
        "\n",
        "* Creates a directory named `bedgraph_files` to store bedgraph files.\n",
        "* Moves all created `.bedgraph` files into the `bedgraph_files` folder.\n",
        "\n",
        "**Zipping Files**\n",
        "\n",
        "* Creates a zip archive of all files in the `bedgraph_files` directory named `bedgraph_files.zip`."
      ],
      "metadata": {
        "id": "eSGPZojoGRdX"
      }
    },
    {
      "cell_type": "code",
      "source": [
        "import shutil\n",
        "import os\n",
        "\n",
        "# Create the folder if it doesn't exist\n",
        "folder_name = \"bedgraph_files\"\n",
        "if not os.path.exists(folder_name):\n",
        "    os.makedirs(folder_name)\n",
        "\n",
        "# Move all .bedgraph files to the folder\n",
        "for filename in os.listdir():\n",
        "    if filename.endswith(\".bedgraph\"):\n",
        "        source_path = os.path.join(os.getcwd(), filename)\n",
        "        destination_path = os.path.join(os.getcwd(), folder_name, filename)\n",
        "        shutil.move(source_path, destination_path)\n",
        "        print(f\"Moved '{filename}' to '{folder_name}'\")\n",
        "\n",
        "!zip -r /content/bedgraph_files.zip /content/bedgraph_files"
      ],
      "metadata": {
        "id": "WMT3idjaEi6H"
      },
      "execution_count": null,
      "outputs": []
    }
  ]
}
